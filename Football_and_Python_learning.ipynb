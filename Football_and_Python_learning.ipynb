{
  "nbformat": 4,
  "nbformat_minor": 0,
  "metadata": {
    "colab": {
      "provenance": [],
      "authorship_tag": "ABX9TyNm2h3QHPlOFfV3eQw8oXeL",
      "include_colab_link": true
    },
    "kernelspec": {
      "name": "python3",
      "display_name": "Python 3"
    },
    "language_info": {
      "name": "python"
    }
  },
  "cells": [
    {
      "cell_type": "markdown",
      "metadata": {
        "id": "view-in-github",
        "colab_type": "text"
      },
      "source": [
        "<a href=\"https://colab.research.google.com/github/spectro81/Python-fantasy-football/blob/main/Football_and_Python_learning.ipynb\" target=\"_parent\"><img src=\"https://colab.research.google.com/assets/colab-badge.svg\" alt=\"Open In Colab\"/></a>"
      ]
    },
    {
      "cell_type": "code",
      "execution_count": 6,
      "metadata": {
        "colab": {
          "base_uri": "https://localhost:8080/"
        },
        "id": "DluEVABXAWdv",
        "outputId": "06eb00eb-5ad3-4f9c-9ff6-ada510d4985a"
      },
      "outputs": [
        {
          "output_type": "stream",
          "name": "stdout",
          "text": [
            "Michael Thomas had a catch rate of 0.8054054054054054\n",
            "Julio Jones had a catch rate of 0.6305732484076433\n",
            "Davante Adams had a catch rate of 0.6535433070866141\n"
          ]
        }
      ],
      "source": [
        "players = [\n",
        "{\n",
        "\"name\": \"Michael Thomas\",\n",
        "\"catches\": 149,\n",
        "\"targets\": 185\n",
        "},\n",
        "{\n",
        "\"name\": \"Julio Jones\",\n",
        "\"catches\": 99,\n",
        "\"targets\": 157\n",
        "},\n",
        "{\n",
        "\"name\": \"Davante Adams\",\n",
        "\"catches\": 83,\n",
        "\"targets\": 127\n",
        "}\n",
        "]\n",
        "\n",
        "for player in players:\n",
        "  name = player['name']\n",
        "  catches = player['catches']\n",
        "  targets = player['targets']\n",
        "  catch_rate = catches/targets\n",
        "  print(name + ' had a catch rate of ' + str(catch_rate))"
      ]
    },
    {
      "cell_type": "code",
      "source": [
        "my_list_one = [1,2,3,4]\n",
        "my_list_two = ['a', 'b', 'c', 'd']\n",
        "my_list_three = [[1,2,3], [4,5,6]]\n",
        "my_list_four = [my_list_one, my_list_two, my_list_three]\n",
        "my_list_five = [1, 'a', my_list_four, { 'key': 'value'}]"
      ],
      "metadata": {
        "id": "s8JW4OiIAYCA"
      },
      "execution_count": 3,
      "outputs": []
    },
    {
      "cell_type": "code",
      "source": [
        "players = [{\n",
        " 'name': 'Aaron Jones',\n",
        " 'rushing_yds': 1084,\n",
        " 'rushing_att': 236\n",
        "}, {\n",
        " 'name': 'Derrick Henry',\n",
        " 'rushing_yds': 1540,\n",
        " 'rushing_att': 303\n",
        "}, {\n",
        " 'name': 'Mark Ingram',\n",
        " 'rushing_yds': 1018,\n",
        " 'rushing_att': 202\n",
        "}]\n",
        "\n",
        "for player in players:\n",
        "  name = player.get('name', None)\n",
        "  rushing_yds = player.get('rushing_yds', None)\n",
        "  rushing_att = player.get('rushing_att', None)\n",
        "  if name and rushing_yds and rushing_att:\n",
        "    print(name + ' had a yd per carry average of ' + str(rushing_yds/rushing_att))"
      ],
      "metadata": {
        "colab": {
          "base_uri": "https://localhost:8080/"
        },
        "id": "Tyh1vsq-KXgJ",
        "outputId": "3884098b-10b2-4ad9-a3a7-064ca6d8bff2"
      },
      "execution_count": 7,
      "outputs": [
        {
          "output_type": "stream",
          "name": "stdout",
          "text": [
            "Aaron Jones had a yd per carry average of 4.593220338983051\n",
            "Derrick Henry had a yd per carry average of 5.082508250825082\n",
            "Mark Ingram had a yd per carry average of 5.03960396039604\n"
          ]
        }
      ]
    },
    {
      "cell_type": "code",
      "source": [
        "import pandas as pd #import pandas in to our code so we can use it\n",
        "\n",
        "from matplotlib import pyplot as plt\n",
        "\n",
        "csv_path = '2019.csv' #our file path is just our file name\n",
        "\n",
        "df = pd.read_csv(csv_path) #load our CSV in to a DataFrame using read_csv\n",
        "\n",
        "df.head() # view the first 5 rows of our DataFrame\n",
        "\n",
        "print(df.shape) # shape is an attribute that tells us the shape of our DataFrame in the format (rows, columns)\n",
        "print('We have', df.shape[0], 'players we can analyze for the 2019 season')\n",
        "print('We have', df.shape[1], 'columns of data we can analyze for the 2019 season')\n",
        "\n",
        "#This is what you should see as your output:\n",
        "# (620, 28)\n",
        "# We have 620 players we can analyze for the 2019 season\n",
        "# We have 28 columns of data we can analyze for the 2019 season\n",
        "\n",
        "df.__class__\n",
        "\n",
        "\n",
        "df = df.loc[df['Pos'] == 'RB', ['Player', 'Tgt', 'RushingAtt', 'FantasyPoints']]\n",
        "df['Usage'] = df['Tgt'] + df['RushingAtt']\n",
        "\n",
        "df.head()\n",
        "\n",
        "df['UsageRank'] = df['Usage'].rank(ascending=False)\n",
        "\n",
        "df['FantasyPointsRank'] = df['FantasyPoints'].rank(ascending=False)\n",
        "\n",
        "df.sort_values(by='UsageRank').head(15)\n",
        "\n",
        "plt.style.use('ggplot')\n",
        "\n",
        "df.plot(x='Usage', y='FantasyPoints', kind='scatter')\n"
      ],
      "metadata": {
        "colab": {
          "base_uri": "https://localhost:8080/",
          "height": 353
        },
        "id": "eiJo7GYOM2QV",
        "outputId": "228b9ca7-ea1b-45ce-a3a6-0f10339b5f8c"
      },
      "execution_count": 3,
      "outputs": [
        {
          "output_type": "stream",
          "name": "stdout",
          "text": [
            "(620, 28)\n",
            "We have 620 players we can analyze for the 2019 season\n",
            "We have 28 columns of data we can analyze for the 2019 season\n"
          ]
        },
        {
          "output_type": "execute_result",
          "data": {
            "text/plain": [
              "<matplotlib.axes._subplots.AxesSubplot at 0x7efc00cc5eb0>"
            ]
          },
          "metadata": {},
          "execution_count": 3
        },
        {
          "output_type": "display_data",
          "data": {
            "text/plain": [
              "<Figure size 432x288 with 1 Axes>"
            ],
            "image/png": "[encoded data removed]"
          },
          "metadata": {}
        }
      ]
    }
  ]
}